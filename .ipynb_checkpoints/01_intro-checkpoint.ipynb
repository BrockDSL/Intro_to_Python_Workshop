{
 "cells": [
  {
   "cell_type": "markdown",
   "metadata": {},
   "source": [
    "![DSL_logo](dsl_logo.png)\n",
    "\n",
    "\n",
    "# Introduction to Python!\n",
    "\n",
    "Welcome to the Digital Scholarship Lab introduction to Python class. By the end of today we'll know all about the following;\n",
    "- variables\n",
    "- math\n",
    "- conditional\n",
    "- loops\n",
    "- functions\n",
    "\n",
    "We'll also do some basic text analysis (if time allows)\n",
    "\n",
    "\n",
    "We'll use the raise hands function in Zoom to set our pace."
   ]
  },
  {
   "cell_type": "markdown",
   "metadata": {},
   "source": [
    "## Python via Jupyter\n",
    "\n",
    "- Jupyter notebooks allow us to have code in a webpage\n",
    "- Each bit of code is in a 'cell'. We hit the play button to run each cell\n",
    "- Try it with the next cell."
   ]
  },
  {
   "cell_type": "code",
   "execution_count": null,
   "metadata": {},
   "outputs": [],
   "source": [
    "# We are going to ask for the user to input their name\n",
    "# We'll then tell that person hello\n",
    "\n",
    "user_name = input(\"What is your name? \")\n",
    "print(\"Hello \" + user_name)\n"
   ]
  },
  {
   "cell_type": "markdown",
   "metadata": {},
   "source": [
    "***\n",
    "\n",
    "## Variables, Printing and Comments\n",
    "\n",
    "- Variable can hold values and come in different types, as we say earlier the user's name is in a variable called user_name\n",
    "- variables can all be strings, integers, real numbers, or pretty much anything else\n",
    "- when we want to print something we use the function `print()`\n",
    "- Anything after a `#` is a comment, it is ignored by Python"
   ]
  },
  {
   "cell_type": "code",
   "execution_count": null,
   "metadata": {},
   "outputs": [],
   "source": [
    "# A number with a decimal is called a real\n",
    "pi = 3.14\n",
    "\n",
    "#A number with no decima is called an integer\n",
    "items_in_a_dozen = 12\n",
    "\n",
    "#Text in variable is called a string\n",
    "favourite_color = \"blue\"\n",
    "\n",
    "#You can list multiple values in one variable\n",
    "#This is called a list, they can have anything in them\n",
    "\n",
    "Y_Axis = [0, 0.1, 0.2, 0.3, 0.4, 0.5]\n",
    "crayon_colours = [\"red\",\"blue\",\"yellow\"]"
   ]
  },
  {
   "cell_type": "markdown",
   "metadata": {},
   "source": [
    "- **Q1** Can you create a variable called `age` and give set it to your age in years? "
   ]
  },
  {
   "cell_type": "code",
   "execution_count": null,
   "metadata": {},
   "outputs": [],
   "source": []
  },
  {
   "cell_type": "markdown",
   "metadata": {},
   "source": [
    "- **Q2** Can you print your age to the screen?"
   ]
  },
  {
   "cell_type": "code",
   "execution_count": null,
   "metadata": {},
   "outputs": [],
   "source": [
    "print()"
   ]
  },
  {
   "cell_type": "markdown",
   "metadata": {},
   "source": [
    "- If we want to combine things and print them all together we join them with at `+` just like we saw above\n",
    "\n",
    "`print(\"Hello \" + user_name)`"
   ]
  },
  {
   "cell_type": "markdown",
   "metadata": {},
   "source": [
    "- **Q3** Can you print your name and age to the screen with a space in between? "
   ]
  },
  {
   "cell_type": "code",
   "execution_count": null,
   "metadata": {},
   "outputs": [],
   "source": [
    "print(+ \" \" +)"
   ]
  },
  {
   "cell_type": "markdown",
   "metadata": {},
   "source": [
    "***\n",
    "\n",
    "## A Python thing to keep in mind!\n",
    "\n",
    "- Some programming languages need a `;` at the end of a line of code, not Python!\n",
    "- With Python you need to **indent** your code, the rest of the examples will demonstrate this\n",
    "\n"
   ]
  },
  {
   "cell_type": "markdown",
   "metadata": {},
   "source": [
    "***\n",
    "\n",
    "## Variables - Dictionaries\n",
    "\n",
    "- These are fancy variables\n",
    "- These are a bit more complicated as they hold both a 'key' and a 'value'.\n"
   ]
  },
  {
   "cell_type": "code",
   "execution_count": null,
   "metadata": {},
   "outputs": [],
   "source": [
    "phone_numbers = {\n",
    "    \"Mom\":\"555-8980\",\n",
    "    \"Joe\":\"555-1021\"\n",
    "}\n",
    "\n",
    "toronto_weather = {\n",
    "    \"Monday\": 10,\n",
    "    \"Tuesday\" : 12,\n",
    "    \"Wednesday\" : 15,\n",
    "    \"Thursday\" : 10,\n",
    "    \"Friday\" : 9,\n",
    "    \"Saturday\" : 6,\n",
    "    \"Sunday\" : 6\n",
    "    }"
   ]
  },
  {
   "cell_type": "markdown",
   "metadata": {},
   "source": [
    "- We can print a dictionary in a very similar way to other variables like we saw earlier."
   ]
  },
  {
   "cell_type": "code",
   "execution_count": null,
   "metadata": {},
   "outputs": [],
   "source": [
    "print(phone_numbers)"
   ]
  },
  {
   "cell_type": "markdown",
   "metadata": {},
   "source": [
    "- You can do some interesting things with dictionaries, (we'll see more as time goes on)\n",
    "- For example you can print out different parts of the dictionary by adding in a `key`"
   ]
  },
  {
   "cell_type": "code",
   "execution_count": null,
   "metadata": {},
   "outputs": [],
   "source": [
    "print(toronto_weather[\"Monday\"])"
   ]
  },
  {
   "cell_type": "markdown",
   "metadata": {},
   "source": [
    "- **Q4** How can we print Wednesday's weather?"
   ]
  },
  {
   "cell_type": "code",
   "execution_count": null,
   "metadata": {},
   "outputs": [],
   "source": []
  },
  {
   "cell_type": "markdown",
   "metadata": {},
   "source": [
    "- **Q5** How can we print Saturday's weather?"
   ]
  },
  {
   "cell_type": "code",
   "execution_count": null,
   "metadata": {},
   "outputs": [],
   "source": []
  },
  {
   "cell_type": "markdown",
   "metadata": {},
   "source": [
    "- **Q6** Print Joe's phone number."
   ]
  },
  {
   "cell_type": "code",
   "execution_count": null,
   "metadata": {},
   "outputs": [],
   "source": []
  },
  {
   "cell_type": "markdown",
   "metadata": {},
   "source": [
    "***\n",
    "\n",
    "## Doing Math\n",
    "\n",
    "As you'd expect with a programming language Python is pretty good at doing math. The basic operators you can use are as follows:\n",
    "\n",
    "- `*` is for multiplication\n",
    "- `+` is for addition\n",
    "- `-` is the subtraction\n",
    "- `%` is the remainder\n",
    "- `/` is division\n",
    "\n",
    "Let's re-use our dictionary variable about the weather from earlier."
   ]
  },
  {
   "cell_type": "markdown",
   "metadata": {},
   "source": [
    "- Let's find the average recorded for the weekdays\n",
    "- Another Python hint, if you need to go across multiple lines use `\\` like in the following"
   ]
  },
  {
   "cell_type": "code",
   "execution_count": null,
   "metadata": {},
   "outputs": [],
   "source": [
    "five_day_total = toronto_weather[\"Monday\"] + \\\n",
    "                    toronto_weather[\"Tuesday\"] + \\\n",
    "                    toronto_weather[\"Wednesday\"] + \\\n",
    "                    toronto_weather[\"Thursday\"] + \\\n",
    "                    toronto_weather[\"Friday\"]\n",
    "\n",
    "print(five_day_total / 5)"
   ]
  },
  {
   "cell_type": "markdown",
   "metadata": {},
   "source": [
    "- All of our temp data is in **C**\n",
    "- What if we want to know it in **F**?"
   ]
  },
  {
   "cell_type": "code",
   "execution_count": null,
   "metadata": {},
   "outputs": [],
   "source": [
    "print(toronto_weather[\"Monday\"] * 9/5 + 32)"
   ]
  },
  {
   "cell_type": "markdown",
   "metadata": {},
   "source": [
    "- **Q7** Can you print out Thursday's temp in F?"
   ]
  },
  {
   "cell_type": "code",
   "execution_count": null,
   "metadata": {},
   "outputs": [],
   "source": []
  },
  {
   "cell_type": "markdown",
   "metadata": {},
   "source": [
    "- **Q8** Can you print tou the average temp from the weekend?"
   ]
  },
  {
   "cell_type": "code",
   "execution_count": null,
   "metadata": {},
   "outputs": [],
   "source": []
  },
  {
   "cell_type": "markdown",
   "metadata": {},
   "source": [
    "- **Q9** Can you print how many days you've been alive for (approximately) using the `age` variable?"
   ]
  },
  {
   "cell_type": "code",
   "execution_count": null,
   "metadata": {},
   "outputs": [],
   "source": [
    "age = \n",
    "print()"
   ]
  },
  {
   "cell_type": "markdown",
   "metadata": {},
   "source": [
    "- **Q10** If you had 45 donuts and you were putting them in boxes that could hold 12 donuts, how many donuts would be in the last box?"
   ]
  },
  {
   "cell_type": "code",
   "execution_count": null,
   "metadata": {},
   "outputs": [],
   "source": [
    "lastbox =\n",
    "print(lastbox)"
   ]
  },
  {
   "cell_type": "markdown",
   "metadata": {},
   "source": [
    "*** \n",
    "\n",
    "## Loops \n",
    "\n",
    "- When we want to repeat the same thing over and over again we put it in something called a loop. \n",
    "- Python lets you do **a lot** with loops without typing in much text\n",
    "- Here `crayon` is a temporary variable that only exists in the loop\n",
    "- Let's return to our example from earlier"
   ]
  },
  {
   "cell_type": "code",
   "execution_count": null,
   "metadata": {},
   "outputs": [],
   "source": [
    "crayon_colours = [\"red\",\"blue\",\"yellow\"]\n",
    "\n",
    "for crayon in crayon_colours:\n",
    "    print(crayon)\n"
   ]
  },
  {
   "cell_type": "markdown",
   "metadata": {},
   "source": [
    "- The basic structure of a loop for us looks like the following\n",
    "\n",
    "```\n",
    "for variable in list_variable:\n",
    "    #do this code\n",
    "```\n",
    "\n",
    "- `variable` is a temporary variable that only exists in the loop\n",
    "- `list_variable` is the list you'd like to see the contents of\n"
   ]
  },
  {
   "cell_type": "markdown",
   "metadata": {},
   "source": [
    "- **Q11** Can you write a loop to print all of the numbers in the list `numbers`?"
   ]
  },
  {
   "cell_type": "code",
   "execution_count": null,
   "metadata": {},
   "outputs": [],
   "source": [
    "numbers = [1,2,3,4,5]\n",
    "\n",
    "for digit \n"
   ]
  },
  {
   "cell_type": "markdown",
   "metadata": {},
   "source": [
    "- **Q12** Can you make a loop that prints all of the letters in your name?"
   ]
  },
  {
   "cell_type": "code",
   "execution_count": null,
   "metadata": {},
   "outputs": [],
   "source": [
    "user_name = \"\"\n",
    "for in user_name:\n"
   ]
  },
  {
   "cell_type": "markdown",
   "metadata": {},
   "source": [
    "- **Q13** Can you write a loop that displays each letter of the string variable `alphabet`?"
   ]
  },
  {
   "cell_type": "code",
   "execution_count": null,
   "metadata": {},
   "outputs": [],
   "source": [
    "alphabet = \"abcdefghijklmnopqrstuvwxyz\""
   ]
  },
  {
   "cell_type": "markdown",
   "metadata": {},
   "source": [
    "***\n",
    "\n",
    "## Dictionaries and Loops\n",
    "\n",
    "- Watch what happens when we try to do a loop through a dictionary"
   ]
  },
  {
   "cell_type": "code",
   "execution_count": null,
   "metadata": {
    "scrolled": false
   },
   "outputs": [],
   "source": [
    "for day in toronto_weather:\n",
    "    print(day)"
   ]
  },
  {
   "cell_type": "markdown",
   "metadata": {},
   "source": [
    "- Since dictionaries are more complex, there are many ways to interact with them\n",
    "- We add `.values()` to get the values of the dictionary\n",
    "- We add `.keys()` to get the keys of the dictionary"
   ]
  },
  {
   "cell_type": "code",
   "execution_count": null,
   "metadata": {
    "scrolled": false
   },
   "outputs": [],
   "source": [
    "#print all the items in our Dictionary\n",
    "\n",
    "for item in toronto_weather.values():\n",
    "    print(item)"
   ]
  },
  {
   "cell_type": "code",
   "execution_count": null,
   "metadata": {},
   "outputs": [],
   "source": [
    "# print out the keys in our Dictionary\n",
    "\n",
    "for item in toronto_weather.keys():\n",
    "    print(item)\n"
   ]
  },
  {
   "cell_type": "markdown",
   "metadata": {},
   "source": [
    "***\n",
    "\n",
    "## Conditionals \n",
    "\n",
    "- When we want to run a piece of code only if something is true\n",
    "- We can compare with the following:\n",
    " - `==`\n",
    " - `>=`\n",
    " - `<=`\n",
    " - `<`\n",
    " - `>` \n",
    " - `!=`\n",
    " \n",
    " \n",
    " \n",
    " - When we just want to check one thing and if so run `code1`:\n",
    "```\n",
    "\n",
    "        if condition:\n",
    "            code1\n",
    "```\n",
    "\n",
    " - When we want to check something and do code1 or code2 if it is not so\n",
    "\n",
    "```\n",
    "        if condition:\n",
    "            code1\n",
    "        else:\n",
    "            code2\n",
    " ```"
   ]
  },
  {
   "cell_type": "markdown",
   "metadata": {},
   "source": [
    "- Let's pretend that anything over 10 degrees is hot. Let' make a conditional that prints out if it is hot on **Wednesday**"
   ]
  },
  {
   "cell_type": "code",
   "execution_count": null,
   "metadata": {},
   "outputs": [],
   "source": [
    "if toronto_weather[\"Wednesday\"] > 10:\n",
    "    print(\"Hot out today\")"
   ]
  },
  {
   "cell_type": "markdown",
   "metadata": {},
   "source": [
    "- **Q14** Can you complete the following to make it print out \"It is cold\" when it is less then 10 degrees?"
   ]
  },
  {
   "cell_type": "code",
   "execution_count": null,
   "metadata": {},
   "outputs": [],
   "source": [
    "if toronto_weather[\"Sunday\"] 10:\n",
    "    print(\"It is cold\")"
   ]
  },
  {
   "cell_type": "markdown",
   "metadata": {},
   "source": [
    "- **Q15** Can you write a loop that goes through all of the days of the week and prints 'Hot out Today' if the tempurature is above 10, and 'It is cold' if it is below or equal to 10 degrees?"
   ]
  },
  {
   "cell_type": "code",
   "execution_count": null,
   "metadata": {},
   "outputs": [],
   "source": [
    "for temp in toronto_weather.values():\n",
    "    \n",
    "    if temp 10:\n",
    "        print(\"\")\n",
    "    else:\n",
    "        print(\"\")"
   ]
  },
  {
   "cell_type": "markdown",
   "metadata": {},
   "source": [
    "***\n",
    "\n",
    "## Combining with boolean\n",
    "\n",
    "- Sometimes we want to combine conditionals because we want to test more complicated things\n",
    "- We can do this with the following:\n",
    " - `and`\n",
    " - `or`\n",
    " - `not`"
   ]
  },
  {
   "cell_type": "markdown",
   "metadata": {},
   "source": [
    "- Here's a quick game that demonstrates this\n",
    "- It will ask you to put a value in between 1 and 10\n",
    "- If you don't, it will let you know"
   ]
  },
  {
   "cell_type": "code",
   "execution_count": null,
   "metadata": {},
   "outputs": [],
   "source": [
    "#we can turn a variable into a integer with the int() function\n",
    "number = int(input(\"Pick any number between 1 - 10: \"))\n",
    "\n",
    "if number > 10 or number < 1:\n",
    "    print(\"Sorry you didn't pick a number between 1 - 10\")"
   ]
  },
  {
   "cell_type": "markdown",
   "metadata": {},
   "source": [
    "- **Q16** Can you re-write the conditional from the game above to use an `and` to do the same thing? you'll need to use some operators from the **Conditionals** section above"
   ]
  },
  {
   "cell_type": "code",
   "execution_count": null,
   "metadata": {},
   "outputs": [],
   "source": [
    "#we can turn a variable into a integer with the int() function\n",
    "#as with most programming tasks there are more then 1 way to accomplish something\n",
    "number = int(input(\"Pick any number between 1 - 10: \"))\n",
    "\n",
    "if and :\n",
    "    print(\"\")"
   ]
  },
  {
   "cell_type": "markdown",
   "metadata": {},
   "source": [
    "- **Q17** Can you rewrite the conditional from the game above to tell the player if a number isn't 0?"
   ]
  },
  {
   "cell_type": "code",
   "execution_count": null,
   "metadata": {},
   "outputs": [],
   "source": [
    "#we can turn a variable into a integer with the int() function\n",
    "number = int(input(\"Pick any number that isn't 0\"))\n",
    "\n",
    "if number :\n",
    "    print()"
   ]
  },
  {
   "cell_type": "markdown",
   "metadata": {},
   "source": [
    "***\n",
    "\n",
    "## Functions\n",
    "\n",
    "- Functions are bits of code that do a certain task in a certain way\n",
    "- We saw this earlier with the `print()` function\n",
    "- We also just used the `int()` function in our game\n",
    "- we can create our own functions too"
   ]
  },
  {
   "cell_type": "code",
   "execution_count": null,
   "metadata": {},
   "outputs": [],
   "source": [
    "print(\"hello world\")\n",
    "int(\"10\")"
   ]
  },
  {
   "cell_type": "markdown",
   "metadata": {},
   "source": [
    "- A useful function is `len()` which tells you how long something is\n",
    "- Let's print how long our `user_name` is"
   ]
  },
  {
   "cell_type": "code",
   "execution_count": null,
   "metadata": {},
   "outputs": [],
   "source": [
    "len(user_name)"
   ]
  },
  {
   "cell_type": "markdown",
   "metadata": {},
   "source": [
    "- **Q18** What would the following snippet print on the screen? (Try to figure it out before running it, put your answer in the chat)"
   ]
  },
  {
   "cell_type": "code",
   "execution_count": null,
   "metadata": {},
   "outputs": [],
   "source": [
    "len(toronto_weather)"
   ]
  },
  {
   "cell_type": "markdown",
   "metadata": {},
   "source": [
    "The structure of a function looks like the following:\n",
    "\n",
    "\n",
    "```\n",
    "def name_of_function(arguments)\n",
    "    #code\n",
    "    #code\n",
    "    return answer #not mandtory\n",
    "    \n",
    "```\n",
    "\n",
    "We've already seen how we call a functon:\n",
    "\n",
    "```\n",
    "name_of_function(arguments)\n",
    "```"
   ]
  },
  {
   "cell_type": "markdown",
   "metadata": {},
   "source": [
    "- This function will change the temp to **F** from **C**\n",
    "- Statements can get pretty long if you call lots of functions in them\n",
    "- Here we find **Monday's** temp in **F** and print it"
   ]
  },
  {
   "cell_type": "code",
   "execution_count": null,
   "metadata": {},
   "outputs": [],
   "source": [
    "def temp_to_f(celc):\n",
    "    return celc * 9/5 + 32\n",
    "\n",
    "print(temp_to_f(toronto_weather[\"Monday\"]))\n"
   ]
  },
  {
   "cell_type": "markdown",
   "metadata": {},
   "source": [
    "Now that we know a bit about functions let's try to understand some more complicated ones. Let's spend some time on these ones"
   ]
  },
  {
   "cell_type": "markdown",
   "metadata": {},
   "source": [
    "- **Q19** Can you write a function that finds the average temperature for the week? (Some of it is there for you)"
   ]
  },
  {
   "cell_type": "code",
   "execution_count": null,
   "metadata": {},
   "outputs": [],
   "source": [
    "def week_avg(toronto_weather):\n",
    "    \n",
    "    total_degrees  = 0\n",
    "    avg_temp = 0\n",
    "    \n",
    "    for day in toronto_weather.values():\n",
    "        total_degrees = total_degrees + day\n",
    "        \n",
    "                                            \n",
    "    return avg_temp\n",
    "\n",
    "\n",
    "print(week_avg(toronto_weather))\n"
   ]
  },
  {
   "cell_type": "markdown",
   "metadata": {},
   "source": [
    "- **Q20** Can you write a function that finds the average temp for the week but in **F**? (Some of it is there for you)"
   ]
  },
  {
   "cell_type": "code",
   "execution_count": null,
   "metadata": {},
   "outputs": [],
   "source": [
    "def week_avg_f(toronto_weather):\n",
    "    \n",
    "    avg_temp = 0\n",
    "    \n",
    "    return avg_temp\n",
    "\n",
    "\n",
    "print(week_avg_f(toronto_weather))\n"
   ]
  },
  {
   "cell_type": "markdown",
   "metadata": {},
   "source": [
    "- **Q21** Can you write a function that finds the average temperature for the weekend? (Some of it is there for you)"
   ]
  },
  {
   "cell_type": "code",
   "execution_count": null,
   "metadata": {},
   "outputs": [],
   "source": [
    "\n",
    "def weekend_avg(toronto_weather)\n",
    "\n",
    "    avg_temp = 0\n",
    "    \n",
    "    \n",
    "    return avg_temp\n",
    "\n",
    "\n",
    "print(weekend_avg(toronto_weather))\n",
    "\n"
   ]
  },
  {
   "cell_type": "markdown",
   "metadata": {},
   "source": [
    "- **Q22** Can you write a function that finds the average temperature for the weekend in **F**? (Some of it is ther for you)"
   ]
  },
  {
   "cell_type": "code",
   "execution_count": null,
   "metadata": {},
   "outputs": [],
   "source": [
    "def weekend_avg_f(toronto_weather)\n",
    "\n",
    "    avg_temp_f = 0\n",
    "    \n",
    "    return avg_temp_f\n",
    "\n",
    "\n",
    "print(weekend_avg(toronto_weather))\n"
   ]
  },
  {
   "cell_type": "markdown",
   "metadata": {},
   "source": [
    "- **Q23** Did you find the shortcut for **Q21** and **Q22**? Can you describe it?"
   ]
  },
  {
   "cell_type": "markdown",
   "metadata": {},
   "source": []
  },
  {
   "cell_type": "markdown",
   "metadata": {},
   "source": [
    "***\n",
    "\n",
    "# Congrats!\n",
    "\n",
    "You now know the basics of Python. Let's try another exercise that does some basic [text analysis](02_text_analysis.ipynb)"
   ]
  }
 ],
 "metadata": {
  "kernelspec": {
   "display_name": "Python 3",
   "language": "python",
   "name": "python3"
  },
  "language_info": {
   "codemirror_mode": {
    "name": "ipython",
    "version": 3
   },
   "file_extension": ".py",
   "mimetype": "text/x-python",
   "name": "python",
   "nbconvert_exporter": "python",
   "pygments_lexer": "ipython3",
   "version": "3.7.4"
  }
 },
 "nbformat": 4,
 "nbformat_minor": 2
}
