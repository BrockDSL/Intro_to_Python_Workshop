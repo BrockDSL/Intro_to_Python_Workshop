{
 "cells": [
  {
   "cell_type": "markdown",
   "metadata": {},
   "source": [
    "![DSL_logo](dsl_logo.png)\n",
    "\n",
    "\n",
    "# Introduction to Python!\n",
    "\n",
    "Welcome to the Digital Scholarship Lab introduction to Python class. By the end of today we'll know all about the following;\n",
    "- variables\n",
    "- math\n",
    "- conditional\n",
    "- loops\n",
    "- functions\n",
    "\n",
    "We'll also do some basic text analysis\n",
    "\n",
    "Join the [Etherpad](http://139.57.126.30:32780/p/intro_to_python)"
   ]
  },
  {
   "cell_type": "markdown",
   "metadata": {},
   "source": [
    "## First things first\n",
    "\n",
    "- Jupyter notebooks allow us to have code in a webpage\n",
    "- Each bit of code is in a 'cell'. We hit the play button to run each cell\n",
    "- Try it with the next cell."
   ]
  },
  {
   "cell_type": "code",
   "execution_count": null,
   "metadata": {},
   "outputs": [],
   "source": [
    "# We are going to ask for the user to input their name\n",
    "# We'll then tell that person hello\n",
    "\n",
    "user_name = input(\"What is your name? \")\n",
    "print(\"Hello \" + user_name)\n"
   ]
  },
  {
   "cell_type": "markdown",
   "metadata": {},
   "source": [
    "## Variables - The Basics\n",
    "\n",
    "- can hold values and come in different types, as we say earlier the user's name is in a variable called user_name\n",
    "- variables can all be strings, integers, real numbers, or pretty much anything else"
   ]
  },
  {
   "cell_type": "code",
   "execution_count": null,
   "metadata": {},
   "outputs": [],
   "source": [
    "pi = 3.14\n",
    "items_in_a_dozen = 12\n",
    "favourite_color = \"blue\"\n",
    "Y_Axis = [0, 0.1, 0.2, 0.3, 0.4, 0.5]\n",
    "crayon_colours = [\"red\",\"blue\",\"yellow\"]\n"
   ]
  },
  {
   "cell_type": "markdown",
   "metadata": {},
   "source": [
    "- Can you create a variable called *age* and give set it to your age in years? "
   ]
  },
  {
   "cell_type": "code",
   "execution_count": null,
   "metadata": {},
   "outputs": [],
   "source": []
  },
  {
   "cell_type": "markdown",
   "metadata": {},
   "source": [
    "## Variables - Dictionaries\n",
    "\n",
    "These are a bit more complicated as they hold 'key' and a 'value'. Check out this example\n"
   ]
  },
  {
   "cell_type": "code",
   "execution_count": null,
   "metadata": {},
   "outputs": [],
   "source": [
    "toronto_weather = {\n",
    "    \"Monday\": 10,\n",
    "    \"Tuesday\" : 12,\n",
    "    \"Wednesday\" : 15,\n",
    "    \"Thursday\" : 10,\n",
    "    \"Friday\" : 9,\n",
    "    \"Saturday\" : 6,\n",
    "    \"Sunday\" : 6\n",
    "    }"
   ]
  },
  {
   "cell_type": "markdown",
   "metadata": {},
   "source": [
    "You can do some interesting things with dictionaries, we'll see more as time goes on"
   ]
  },
  {
   "cell_type": "code",
   "execution_count": null,
   "metadata": {},
   "outputs": [],
   "source": [
    "#find a value\n",
    "\n",
    "toronto_weather[\"Monday\"]\n"
   ]
  },
  {
   "cell_type": "markdown",
   "metadata": {},
   "source": [
    "How can we print Wednesday's weather?"
   ]
  },
  {
   "cell_type": "code",
   "execution_count": null,
   "metadata": {},
   "outputs": [],
   "source": []
  },
  {
   "cell_type": "markdown",
   "metadata": {},
   "source": [
    "## Doing Math\n",
    "\n",
    "As you'd expect with a programming language Python is pretty good at doing math. The basic operators you can use are as follows:\n",
    "\n",
    "- `*` is for multiplication\n",
    "- `+` is for addition\n",
    "- `-` is the subtraction\n",
    "- `%` is the remainder\n",
    "- `/` is division"
   ]
  },
  {
   "cell_type": "code",
   "execution_count": null,
   "metadata": {},
   "outputs": [],
   "source": [
    "# Find the average temp on the weekend\n",
    "\n",
    "(toronto_weather[\"Saturday\"] + toronto_weather[\"Sunday\"]) / 2\n"
   ]
  },
  {
   "cell_type": "markdown",
   "metadata": {},
   "source": [
    "All of our tempurature data is in Celsius, what if we want to know it in F?"
   ]
  },
  {
   "cell_type": "code",
   "execution_count": null,
   "metadata": {},
   "outputs": [],
   "source": [
    "toronto_weather[\"Monday\"] * 9/5 + 32"
   ]
  },
  {
   "cell_type": "markdown",
   "metadata": {},
   "source": [
    "- Can you print how many days you've been alive for (approximately) using the *age* variable"
   ]
  },
  {
   "cell_type": "code",
   "execution_count": null,
   "metadata": {},
   "outputs": [],
   "source": []
  },
  {
   "cell_type": "markdown",
   "metadata": {},
   "source": [
    "## Loops \n",
    "\n",
    "When we want to repeat the same thing over and over again we put it in something call a loop. Let's return to our examples from earlier"
   ]
  },
  {
   "cell_type": "code",
   "execution_count": null,
   "metadata": {},
   "outputs": [],
   "source": [
    "# print out all the crayon colours\n",
    "crayon_colours = [\"red\",\"blue\",\"yellow\"]\n",
    "\n",
    "for crayon in crayon_colours:\n",
    "    print(crayon)\n"
   ]
  },
  {
   "cell_type": "markdown",
   "metadata": {},
   "source": [
    "We can use our loops on the more complicated dictionary item we created earler with a little bit of extra sauce\n",
    "\n",
    "- we add `.values()` to get the values of the dictionary\n",
    "- we add `.keys()` to get the keys of the dictionary"
   ]
  },
  {
   "cell_type": "code",
   "execution_count": null,
   "metadata": {
    "scrolled": false
   },
   "outputs": [],
   "source": [
    "#print all the items in our Dictionary\n",
    "\n",
    "for item in toronto_weather.values():\n",
    "    print(item)"
   ]
  },
  {
   "cell_type": "code",
   "execution_count": null,
   "metadata": {},
   "outputs": [],
   "source": [
    "# print out the keys in our Dictionary\n",
    "\n",
    "for item in toronto_weather.keys():\n",
    "    print(item)\n"
   ]
  },
  {
   "cell_type": "markdown",
   "metadata": {},
   "source": [
    "- Can you write a loop that displays each letter of the variable `alphabet`"
   ]
  },
  {
   "cell_type": "code",
   "execution_count": null,
   "metadata": {},
   "outputs": [],
   "source": [
    "alphabet = \"abcdefghijklmnopqrstuvwxyz\""
   ]
  },
  {
   "cell_type": "markdown",
   "metadata": {},
   "source": [
    "\n",
    "\n",
    "## Conditionals \n",
    "\n",
    "- When we want to run a piece of code only if something is true\n",
    "- We can compare with the following:\n",
    " - `==`\n",
    " - `>=`\n",
    " - `<=`\n",
    " - `<`\n",
    " - `>` \n",
    " - `!=`"
   ]
  },
  {
   "cell_type": "code",
   "execution_count": null,
   "metadata": {},
   "outputs": [],
   "source": [
    "if toronto_weather[\"Wednesday\"] > 10:\n",
    "    print(\"Hot out today\")"
   ]
  },
  {
   "cell_type": "markdown",
   "metadata": {},
   "source": [
    "Can you complete the following to make it print out \"It is cold\"?"
   ]
  },
  {
   "cell_type": "code",
   "execution_count": null,
   "metadata": {},
   "outputs": [],
   "source": [
    "if toronto_weather[\"Sunday\"] 10:\n",
    "    print(\"It is cold\")"
   ]
  },
  {
   "cell_type": "markdown",
   "metadata": {},
   "source": [
    "Can you write a loop that goes through all of the days of the week and prints 'Hot out Today' if the tempurature is above 10, and 'It is cold' if it is below 10 "
   ]
  },
  {
   "cell_type": "code",
   "execution_count": null,
   "metadata": {},
   "outputs": [],
   "source": [
    "for temp in toronto_weather.values():\n",
    "    \n",
    "    if temp 10:\n",
    "        print(\"\")\n",
    "    else\n",
    "        print(\"\")"
   ]
  },
  {
   "cell_type": "markdown",
   "metadata": {},
   "source": [
    "\n",
    "\n",
    "## Combining with boolean\n",
    "\n",
    "- Some times we want to combine conditionals because we want to test more complicated things\n",
    "- We can do this with the following:\n",
    " - `and`\n",
    " - `or`\n",
    " - `not`"
   ]
  },
  {
   "cell_type": "code",
   "execution_count": null,
   "metadata": {},
   "outputs": [],
   "source": [
    "#we can turn a variable into a integer with the int() function\n",
    "number = int(input(\"Pick and number between 1 - 10: \"))\n",
    "\n",
    "if number > 10 or number < 1:\n",
    "    print(\"Sorry you didn't pick a number between 1 - 10\")"
   ]
  },
  {
   "cell_type": "markdown",
   "metadata": {},
   "source": [
    "## Functions\n",
    "\n",
    "- functions are bits of code that do a certain task in a certain way\n",
    "- We saw this earlier with the print function\n",
    "- we can create our own functions too"
   ]
  },
  {
   "cell_type": "code",
   "execution_count": null,
   "metadata": {},
   "outputs": [],
   "source": [
    "print(\"hello world\")\n",
    "int(\"10\")"
   ]
  },
  {
   "cell_type": "code",
   "execution_count": null,
   "metadata": {},
   "outputs": [],
   "source": [
    "# Celsius to Fahrenheit\n",
    "\n",
    "def temp_to_f(celc):\n",
    "    return celc * 9/5 + 32\n",
    "\n",
    "temp_to_f(toronto_weather[\"Monday\"])\n"
   ]
  },
  {
   "cell_type": "code",
   "execution_count": null,
   "metadata": {},
   "outputs": [],
   "source": [
    "# Can you write a function that finds the average tempurature for the week\n",
    "# \n",
    "\n",
    "def week_avg(toronto_weather):\n",
    "    \n",
    "    total_degrees  = 0\n",
    "    avg_temp = 0\n",
    "    \n",
    "    for day in toronto_weather.values():\n",
    "        total_degress = total_degrees + day\n",
    "        \n",
    "                                            \n",
    "    return avg_temp\n",
    "\n",
    "\n",
    "week_avg(toronto_weather)\n"
   ]
  },
  {
   "cell_type": "code",
   "execution_count": null,
   "metadata": {},
   "outputs": [],
   "source": [
    "# Can you write a function that finds the average tempurature for the week but in Fahrenheit\n",
    "\n",
    "\n",
    "def week_avg_f(toronto_weather):\n",
    "    \n",
    "    avg_temp = 0\n",
    "    \n",
    "    return avg_temp\n",
    "\n",
    "\n",
    "week_avg_f(toronto_weather)\n"
   ]
  },
  {
   "cell_type": "code",
   "execution_count": null,
   "metadata": {},
   "outputs": [],
   "source": [
    "# Can you write a function that finds the average tempurature for the weekend?\n",
    "\n",
    "def weekend_avg(toronto_weather)\n",
    "\n",
    "    avg_temp = 0\n",
    "    \n",
    "    \n",
    "    return avg_temp\n",
    "\n",
    "\n",
    "weekend_avg(toronto_weather)\n",
    "\n"
   ]
  },
  {
   "cell_type": "code",
   "execution_count": null,
   "metadata": {},
   "outputs": [],
   "source": [
    "# Can you write a function that finds the average tempurature for the weekend in Fahrenheit\n",
    "\n",
    "def weekend_avg_f(toronto_weather)\n",
    "\n",
    "    avg_temp_f = 0\n",
    "    \n",
    "    return avg_temp_f\n",
    "\n",
    "\n",
    "weekend_avg(toronto_weather)\n"
   ]
  },
  {
   "cell_type": "markdown",
   "metadata": {},
   "source": [
    "# Congrats!\n",
    "\n",
    "You know know the basics of Python. Let's try another exercise that does some basic text analysis"
   ]
  }
 ],
 "metadata": {
  "kernelspec": {
   "display_name": "Python 3",
   "language": "python",
   "name": "python3"
  },
  "language_info": {
   "codemirror_mode": {
    "name": "ipython",
    "version": 3
   },
   "file_extension": ".py",
   "mimetype": "text/x-python",
   "name": "python",
   "nbconvert_exporter": "python",
   "pygments_lexer": "ipython3",
   "version": "3.6.4"
  }
 },
 "nbformat": 4,
 "nbformat_minor": 2
}
