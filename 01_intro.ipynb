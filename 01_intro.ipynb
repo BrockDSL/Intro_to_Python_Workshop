{
 "cells": [
  {
   "cell_type": "markdown",
   "metadata": {},
   "source": [
    "![DSL_logo](dsl_logo.png)\n",
    "\n",
    "\n",
    "# Introduction to Python!\n",
    "\n",
    "Welcome to the Digital Scholarship Lab introduction to Python class. By the end of today we'll know all about the following;\n",
    "- variables\n",
    "- math\n",
    "- conditional\n",
    "- loops\n",
    "- functions\n",
    "\n",
    "We'll also do some basic text analysis (if time allows)\n",
    "\n",
    "\n",
    "We'll use the Zoom's chat feature to interact.\n",
    "\n",
    "Be sure to enable line numbers by looking for the 'gear' icon and checking the box in the 'Editor' panel.\n",
    "\n",
    "Be sure to also 'Save a Copy' under the Edit menu."
   ]
  },
  {
   "cell_type": "markdown",
   "metadata": {},
   "source": [
    "## Python via Jupyter\n",
    "\n",
    "- Jupyter notebooks allow us to have code in a webpage\n",
    "- We'll use Python version 3! Honestly you shouldn't be using Python 2.X any longer\n",
    "- Each bit of code is in a 'cell'. We hit the play button to run each cell\n",
    "- Try it with the next cell."
   ]
  },
  {
   "cell_type": "code",
   "execution_count": null,
   "metadata": {},
   "outputs": [],
   "source": [
    "# We are going to ask for the user to input their name\n",
    "# We'll then tell that person hello\n",
    "\n",
    "user_name = input(\"What is your name? \")\n",
    "print(\"Hello \" + user_name)\n"
   ]
  },
  {
   "cell_type": "markdown",
   "metadata": {},
   "source": [
    "***\n",
    "\n",
    "## Variables, Printing and Comments\n",
    "\n",
    "- Variable can hold values and come in different types, as we say earlier the user's name is in a variable called user_name\n",
    "- variables can all be strings, integers, real numbers, or pretty much anything else\n",
    "- when we want to print something we use the function `print()`\n",
    "- Anything after a `#` is a comment, it is ignored by Python"
   ]
  },
  {
   "cell_type": "code",
   "execution_count": null,
   "metadata": {},
   "outputs": [],
   "source": [
    "# A number with a decimal is called a real\n",
    "pi = 3.14\n",
    "\n",
    "#A number with no decima is called an integer\n",
    "items_in_a_dozen = 12\n",
    "\n",
    "#Text in variable is called a string\n",
    "favourite_color = \"blue\"\n",
    "\n",
    "#You can list multiple values in one variable\n",
    "#This is called a list, they can have anything in them\n",
    "\n",
    "Y_Axis = [0, 0.1, 0.2, 0.3, 0.4, 0.5]\n",
    "crayon_colours = [\"red\",\"blue\",\"yellow\"]"
   ]
  },
  {
   "cell_type": "markdown",
   "metadata": {},
   "source": [
    "Try questions Q1 - Q3 and type \"Done!\" in the chat when you are finished"
   ]
  },
  {
   "cell_type": "markdown",
   "metadata": {},
   "source": [
    "- **Q1** Can you create a variable called `age` and give set it to your age in years? "
   ]
  },
  {
   "cell_type": "code",
   "execution_count": null,
   "metadata": {},
   "outputs": [],
   "source": []
  },
  {
   "cell_type": "markdown",
   "metadata": {},
   "source": [
    "- **Q2** Can you print your age to the screen?"
   ]
  },
  {
   "cell_type": "code",
   "execution_count": null,
   "metadata": {},
   "outputs": [],
   "source": [
    "print()"
   ]
  },
  {
   "cell_type": "markdown",
   "metadata": {},
   "source": [
    "- If we want to combine things and print them all together we join them with at `+` just like we saw above\n",
    "\n",
    "`print(\"Hello \" + user_name)`"
   ]
  },
  {
   "cell_type": "markdown",
   "metadata": {},
   "source": [
    "- **Q3** Can you modify favourite colour above, re-run the cell and complete the print statement that follows"
   ]
  },
  {
   "cell_type": "code",
   "execution_count": null,
   "metadata": {},
   "outputs": [],
   "source": [
    "print(\"My name is \" + + \" and by favourite colour is \" + )"
   ]
  },
  {
   "cell_type": "markdown",
   "metadata": {},
   "source": [
    "***\n",
    "\n",
    "## A Python thing to keep in mind!\n",
    "\n",
    "- Some programming languages need a `;` at the end of a line of code, not Python!\n",
    "- With Python you need to **indent** your code, the rest of the examples will demonstrate this\n",
    "\n"
   ]
  },
  {
   "cell_type": "markdown",
   "metadata": {},
   "source": [
    "***\n",
    "\n",
    "## Variables - Dictionaries\n",
    "\n",
    "- These are fancy variables\n",
    "- These are a bit more complicated as they hold both a 'key' and a 'value'.\n"
   ]
  },
  {
   "cell_type": "code",
   "execution_count": null,
   "metadata": {},
   "outputs": [],
   "source": [
    "phone_numbers = {\n",
    "    \"Mom\":\"555-8980\",\n",
    "    \"Joe\":\"555-1021\"\n",
    "}\n",
    "\n",
    "toronto_weather = {\n",
    "    \"Monday\": 10,\n",
    "    \"Tuesday\" : 12,\n",
    "    \"Wednesday\" : 15,\n",
    "    \"Thursday\" : 10,\n",
    "    \"Friday\" : 9,\n",
    "    \"Saturday\" : 6,\n",
    "    \"Sunday\" : 6\n",
    "    }"
   ]
  },
  {
   "cell_type": "markdown",
   "metadata": {},
   "source": [
    "- We can print a dictionary in a very similar way to other variables like we saw earlier."
   ]
  },
  {
   "cell_type": "code",
   "execution_count": null,
   "metadata": {},
   "outputs": [],
   "source": [
    "print(phone_numbers)"
   ]
  },
  {
   "cell_type": "markdown",
   "metadata": {},
   "source": [
    "- You can do some interesting things with dictionaries, (we'll see more as time goes on)\n",
    "- For example you can print out different parts of the dictionary by adding in a `key`"
   ]
  },
  {
   "cell_type": "code",
   "execution_count": null,
   "metadata": {},
   "outputs": [],
   "source": [
    "print(toronto_weather[\"Monday\"])"
   ]
  },
  {
   "cell_type": "markdown",
   "metadata": {},
   "source": [
    "Try questions Q4-Q6 below and type \"Finished!\" in the chat when you are done."
   ]
  },
  {
   "cell_type": "markdown",
   "metadata": {},
   "source": [
    "- **Q4** How can we print Wednesday's weather?"
   ]
  },
  {
   "cell_type": "code",
   "execution_count": null,
   "metadata": {},
   "outputs": [],
   "source": []
  },
  {
   "cell_type": "markdown",
   "metadata": {},
   "source": [
    "- **Q5** How can we print Saturday's weather?"
   ]
  },
  {
   "cell_type": "code",
   "execution_count": null,
   "metadata": {},
   "outputs": [],
   "source": []
  },
  {
   "cell_type": "markdown",
   "metadata": {},
   "source": [
    "- **Q6** Print Joe's phone number."
   ]
  },
  {
   "cell_type": "code",
   "execution_count": null,
   "metadata": {},
   "outputs": [],
   "source": []
  },
  {
   "cell_type": "markdown",
   "metadata": {},
   "source": [
    "***\n",
    "\n",
    "## Doing Math\n",
    "\n",
    "As you'd expect with a programming language Python is pretty good at doing math. The basic operators you can use are as follows:\n",
    "\n",
    "- `*` is for multiplication\n",
    "- `+` is for addition\n",
    "- `-` is the subtraction\n",
    "- `%` is the remainder\n",
    "- `/` is division\n",
    "\n",
    "Let's re-use our dictionary variable about the weather from earlier."
   ]
  },
  {
   "cell_type": "markdown",
   "metadata": {},
   "source": [
    "- Let's find the average recorded for the weekdays\n",
    "- Another Python hint, if you need to go across multiple lines use `\\` like in the following"
   ]
  },
  {
   "cell_type": "code",
   "execution_count": null,
   "metadata": {},
   "outputs": [],
   "source": [
    "five_day_total = toronto_weather[\"Monday\"] + \\\n",
    "                    toronto_weather[\"Tuesday\"] + \\\n",
    "                    toronto_weather[\"Wednesday\"] + \\\n",
    "                    toronto_weather[\"Thursday\"] + \\\n",
    "                    toronto_weather[\"Friday\"]\n",
    "\n",
    "print(five_day_total / 5)"
   ]
  },
  {
   "cell_type": "markdown",
   "metadata": {},
   "source": [
    "- All of our temp data is in **C**\n",
    "- What if we want to know it in **F**?"
   ]
  },
  {
   "cell_type": "code",
   "execution_count": null,
   "metadata": {},
   "outputs": [],
   "source": [
    "print(toronto_weather[\"Monday\"] * 9/5 + 32)"
   ]
  },
  {
   "cell_type": "markdown",
   "metadata": {},
   "source": [
    "Try questions Q7 - Q10 and type \"Completed\" in the chat box when you are done."
   ]
  },
  {
   "cell_type": "markdown",
   "metadata": {},
   "source": [
    "- **Q7** Can you print out Thursday's temp in F?"
   ]
  },
  {
   "cell_type": "code",
   "execution_count": null,
   "metadata": {},
   "outputs": [],
   "source": []
  },
  {
   "cell_type": "markdown",
   "metadata": {},
   "source": [
    "- **Q8** Can you print out the average temp from the weekend?"
   ]
  },
  {
   "cell_type": "code",
   "execution_count": null,
   "metadata": {},
   "outputs": [],
   "source": []
  },
  {
   "cell_type": "markdown",
   "metadata": {},
   "source": [
    "- **Q9** Can you print how many days you've been alive for (approximately) using the `age` variable?"
   ]
  },
  {
   "cell_type": "code",
   "execution_count": null,
   "metadata": {},
   "outputs": [],
   "source": [
    "age = \n",
    "print()"
   ]
  },
  {
   "cell_type": "markdown",
   "metadata": {},
   "source": [
    "- **Q10** If you had 45 donuts and you were putting them in boxes that could hold 12 donuts, how many donuts would be in the last box?"
   ]
  },
  {
   "cell_type": "code",
   "execution_count": null,
   "metadata": {},
   "outputs": [],
   "source": [
    "lastbox =\n",
    "print(lastbox)"
   ]
  },
  {
   "cell_type": "markdown",
   "metadata": {},
   "source": [
    "*** \n",
    "\n",
    "## Loops \n",
    "\n",
    "- When we want to repeat the same thing over and over again we put it in something called a loop. \n",
    "- Python lets you do **a lot** with loops without typing in much text\n",
    "- Here `crayon` is a temporary variable that only exists in the loop\n",
    "- Let's return to our example from earlier"
   ]
  },
  {
   "cell_type": "code",
   "execution_count": null,
   "metadata": {},
   "outputs": [],
   "source": [
    "crayon_colours = [\"red\",\"blue\",\"yellow\"]\n",
    "\n",
    "for crayon in crayon_colours:\n",
    "    print(crayon)\n"
   ]
  },
  {
   "cell_type": "markdown",
   "metadata": {},
   "source": [
    "- The basic structure of a loop for us looks like the following\n",
    "\n",
    "```\n",
    "for loop_variable in list_variable:\n",
    "    #do this code\n",
    "```\n",
    "\n",
    "- `loop_variable` is a temporary variable that only exists in the loop. As soon as you finish the loop this goes away\n",
    "- `list_variable` is the variable you'd like to loop through. Often a list, but can be other things as we shall see\n"
   ]
  },
  {
   "cell_type": "markdown",
   "metadata": {},
   "source": [
    "### Counting with Loops\n",
    "\n",
    "Very often we use loops to count things. Each time through the loop we update a running value or we increment a counter. The following couple of cells illustrate this."
   ]
  },
  {
   "cell_type": "code",
   "execution_count": null,
   "metadata": {},
   "outputs": [],
   "source": [
    "candy_bars = [\"Mars\",\"Snickers\",\"Kit Kat\",\"Butterfinger\"]\n",
    "\n",
    "total_candy_bars = 0\n",
    "\n",
    "for bar in candy_bars:\n",
    "    total_candy_bars = total_candy_bars + 1\n",
    "\n",
    "\n",
    "print(\"Total Candy Bars: \", total_candy_bars)\n"
   ]
  },
  {
   "cell_type": "markdown",
   "metadata": {},
   "source": [
    "In this example line **6** is a bit different. It is a shorthand for line **6** in the cell above. Does it make sense to you?"
   ]
  },
  {
   "cell_type": "code",
   "execution_count": null,
   "metadata": {},
   "outputs": [],
   "source": [
    "candy_bars = [\"Mars\",\"Snickers\",\"Kit Kat\",\"Butterfinger\"]\n",
    "\n",
    "total_candy_bars = 0\n",
    "\n",
    "for bar in candy_bars:\n",
    "    total_candy_bars += 1\n",
    "\n",
    "\n",
    "print(\"Total Candy Bars: \", total_candy_bars)\n"
   ]
  },
  {
   "cell_type": "markdown",
   "metadata": {},
   "source": [
    "Try questions Q11 - Q13 and type \"All done\" into the chat box"
   ]
  },
  {
   "cell_type": "markdown",
   "metadata": {},
   "source": [
    "- **Q11** Can you write a loop to print all of the numbers in the list `numbers`?"
   ]
  },
  {
   "cell_type": "code",
   "execution_count": null,
   "metadata": {},
   "outputs": [],
   "source": [
    "numbers = [1,2,3,4,5]\n",
    "\n",
    "for digit :\n"
   ]
  },
  {
   "cell_type": "markdown",
   "metadata": {},
   "source": [
    "- **Q12** Can you make a loop that prints all of the letters in your name?"
   ]
  },
  {
   "cell_type": "code",
   "execution_count": null,
   "metadata": {},
   "outputs": [],
   "source": [
    "user_name = \"\"\n",
    "for in user_name:\n"
   ]
  },
  {
   "cell_type": "markdown",
   "metadata": {},
   "source": [
    "- **Q13** Can you write a loop that counts the number of letter in the string variable `alphabet` and print that to the screen?"
   ]
  },
  {
   "cell_type": "code",
   "execution_count": null,
   "metadata": {},
   "outputs": [],
   "source": [
    "alphabet = \"abcdefghijklmnopqrstuvwxyz\"\n",
    "\n",
    "letter_count = 0\n",
    "\n",
    "for letter in :\n",
    "    \n",
    "\n",
    "print(\"Total letters: \", letter_count)"
   ]
  },
  {
   "cell_type": "markdown",
   "metadata": {},
   "source": [
    "***\n",
    "\n",
    "## Dictionaries and Loops\n",
    "\n",
    "- Watch what happens when we try to do a loop through a dictionary"
   ]
  },
  {
   "cell_type": "code",
   "execution_count": null,
   "metadata": {
    "scrolled": false
   },
   "outputs": [],
   "source": [
    "for day in toronto_weather:\n",
    "    print(day)"
   ]
  },
  {
   "cell_type": "markdown",
   "metadata": {},
   "source": [
    "- Since dictionaries are more complex, there are many ways to interact with them\n",
    "- We add `.values()` to get the values of the dictionary\n",
    "- We add `.keys()` to get the keys of the dictionary"
   ]
  },
  {
   "cell_type": "code",
   "execution_count": null,
   "metadata": {
    "scrolled": false
   },
   "outputs": [],
   "source": [
    "#print all the items in our Dictionary\n",
    "\n",
    "for item in toronto_weather.values():\n",
    "    print(item)"
   ]
  },
  {
   "cell_type": "code",
   "execution_count": null,
   "metadata": {},
   "outputs": [],
   "source": [
    "# print out the keys in our Dictionary\n",
    "\n",
    "for item in toronto_weather.keys():\n",
    "    print(item)\n"
   ]
  },
  {
   "cell_type": "markdown",
   "metadata": {},
   "source": [
    "***\n",
    "\n",
    "## Conditionals \n",
    "\n",
    "- When we want to run a piece of code only if something is true\n",
    "- We can compare with the following:\n",
    " - `==`\n",
    " - `>=`\n",
    " - `<=`\n",
    " - `<`\n",
    " - `>` \n",
    " - `!=`\n",
    " \n",
    " \n",
    " \n",
    " - When we just want to check one thing and if so run `code1`:\n",
    "```\n",
    "\n",
    "        if condition:\n",
    "            code1\n",
    "```\n",
    "\n",
    " - When we want to check something and do code1 or code2 if it is not so\n",
    "\n",
    "```\n",
    "        if condition:\n",
    "            code1\n",
    "        else:\n",
    "            code2\n",
    " ```"
   ]
  },
  {
   "cell_type": "markdown",
   "metadata": {},
   "source": [
    "- Let's pretend that anything over 10 degrees is hot. Let' make a conditional that prints out if it is hot on **Wednesday**"
   ]
  },
  {
   "cell_type": "code",
   "execution_count": null,
   "metadata": {},
   "outputs": [],
   "source": [
    "if toronto_weather[\"Wednesday\"] > 10:\n",
    "    print(\"Hot out today\")"
   ]
  },
  {
   "cell_type": "markdown",
   "metadata": {},
   "source": [
    "Try questions Q14-Q15 and type \"check\" into the chat box when you are done"
   ]
  },
  {
   "cell_type": "markdown",
   "metadata": {},
   "source": [
    "- **Q14** Can you complete the following to make it print out \"It is cold\" when it is less then 10 degrees?"
   ]
  },
  {
   "cell_type": "code",
   "execution_count": null,
   "metadata": {},
   "outputs": [],
   "source": [
    "if toronto_weather[\"Sunday\"] 10:\n",
    "    print(\"It is cold\")"
   ]
  },
  {
   "cell_type": "markdown",
   "metadata": {},
   "source": [
    "- **Q15** Can you write a loop that goes through all of the days of the week and prints 'Hot out Today' if the tempurature is above 10, and 'It is cold' if it is below or equal to 10 degrees?"
   ]
  },
  {
   "cell_type": "code",
   "execution_count": null,
   "metadata": {},
   "outputs": [],
   "source": [
    "for temp in toronto_weather.values():\n",
    "    \n",
    "    if temp 10:\n",
    "        print(\"\")\n",
    "    else:\n",
    "        print(\"\")"
   ]
  },
  {
   "cell_type": "markdown",
   "metadata": {},
   "source": [
    "***\n",
    "\n",
    "## Combining with boolean\n",
    "\n",
    "- Sometimes we want to combine conditionals because we want to test more complicated things\n",
    "- We can do this with the following:\n",
    " - `and`\n",
    " - `or`\n",
    " - `not`"
   ]
  },
  {
   "cell_type": "markdown",
   "metadata": {},
   "source": [
    "- Here's a quick game that demonstrates this\n",
    "- It will ask you to put a value in between 1 and 10\n",
    "- If you don't, it will let you know"
   ]
  },
  {
   "cell_type": "code",
   "execution_count": null,
   "metadata": {},
   "outputs": [],
   "source": [
    "#we can turn a variable into a integer with the int() function\n",
    "number = int(input(\"Pick any number between 1 - 10: \"))\n",
    "\n",
    "if number > 10 or number < 1:\n",
    "    print(\"Sorry you didn't pick a number between 1 - 10\")\n",
    "else:\n",
    "    print(\"Your number is between 1 and 10!\")"
   ]
  },
  {
   "cell_type": "markdown",
   "metadata": {},
   "source": [
    "Try questions Q16, type \"all done\" when completed."
   ]
  },
  {
   "cell_type": "markdown",
   "metadata": {},
   "source": [
    "- **Q16** Can you re-write the conditional from the game above to use an `and` to do the same thing? you'll need to use some operators from the **Conditionals** section above. **HINT** It will be easier if you use <= and >= "
   ]
  },
  {
   "cell_type": "code",
   "execution_count": null,
   "metadata": {},
   "outputs": [],
   "source": [
    "#we can turn a variable into a integer with the int() function\n",
    "#as with most programming tasks there are more then 1 way to accomplish something\n",
    "number = int(input(\"Pick any number between 1 - 10: \"))\n",
    "\n",
    "if number and number :\n",
    "    print(\"Your number is between 1 and 10!\")\n",
    "else:\n",
    "    print(\"Sorry you didn't pick a number between 1-10\")"
   ]
  },
  {
   "cell_type": "markdown",
   "metadata": {},
   "source": [
    "***\n",
    "\n",
    "## Functions\n",
    "\n",
    "- Functions are bits of code that do a certain task in a certain way\n",
    "- We saw this earlier with the `print()` function\n",
    "- We also just used the `int()` function in our game\n",
    "- some functions need _arguments_ or _paramaters_. We pass those in the the round brackets. EG. we pass what string variable we want turned into an integer with the `int()` function.\n",
    "- we can create our own functions too"
   ]
  },
  {
   "cell_type": "code",
   "execution_count": null,
   "metadata": {},
   "outputs": [],
   "source": [
    "print(\"hello world\")\n",
    "int(number)"
   ]
  },
  {
   "cell_type": "markdown",
   "metadata": {},
   "source": [
    "- A useful function is `len()` which tells you how long something is\n",
    "- Let's print how long our `user_name` is\n",
    "- Often a function can be applied to different types of variables and the results are ares you expect"
   ]
  },
  {
   "cell_type": "code",
   "execution_count": null,
   "metadata": {},
   "outputs": [],
   "source": [
    "len(user_name)"
   ]
  },
  {
   "cell_type": "markdown",
   "metadata": {},
   "source": [
    "- **Q18** What would the following snippet print on the screen? (Try to figure it out before running it, put your answer in the chat)"
   ]
  },
  {
   "cell_type": "code",
   "execution_count": null,
   "metadata": {},
   "outputs": [],
   "source": [
    "len(toronto_weather)"
   ]
  },
  {
   "cell_type": "markdown",
   "metadata": {},
   "source": [
    "The structure of a function looks like the following:\n",
    "\n",
    "\n",
    "```\n",
    "def name_of_function(arguments):\n",
    "    #code\n",
    "    #code\n",
    "    return answer #not mandtory\n",
    "    \n",
    "```\n",
    "When our function produces a value that we use later we make use of `return`. That will pass the variable back to the place that called it. \n",
    "\n",
    "\n",
    "\n",
    "We've already seen how we call a functon:\n",
    "\n",
    "```\n",
    "name_of_function(arguments)\n",
    "\n",
    "```\n",
    "\n",
    "If you would like to print out the results of your function you need to surround it with the `print` function\n",
    "\n",
    "```\n",
    "print(name_of_function(arguments))\n",
    "\n",
    "```"
   ]
  },
  {
   "cell_type": "markdown",
   "metadata": {},
   "source": [
    "First let's reload our Toronto Weather Data"
   ]
  },
  {
   "cell_type": "code",
   "execution_count": null,
   "metadata": {},
   "outputs": [],
   "source": [
    "toronto_weather = {\n",
    "    \"Monday\": 10,\n",
    "    \"Tuesday\" : 12,\n",
    "    \"Wednesday\" : 15,\n",
    "    \"Thursday\" : 10,\n",
    "    \"Friday\" : 9,\n",
    "    \"Saturday\" : 6,\n",
    "    \"Sunday\" : 6\n",
    "    }"
   ]
  },
  {
   "cell_type": "markdown",
   "metadata": {},
   "source": [
    "- The function below will change the temp to **F** from **C**\n",
    "- Statements can get pretty long if you call lots of functions in them\n",
    "- Here we find **Monday's** temp in **F** and print it"
   ]
  },
  {
   "cell_type": "code",
   "execution_count": null,
   "metadata": {},
   "outputs": [],
   "source": [
    "def temp_to_f(celc):\n",
    "    return celc * 9/5 + 32\n",
    "\n",
    "print(temp_to_f(toronto_weather[\"Monday\"]))\n"
   ]
  },
  {
   "cell_type": "markdown",
   "metadata": {},
   "source": [
    "Try question Q19. Type \"I'm finally finished!\" into the chat when you are done"
   ]
  },
  {
   "cell_type": "markdown",
   "metadata": {},
   "source": [
    "- **Q19** Can you write a function that finds the average temperature for the week? You just need to modify line 10."
   ]
  },
  {
   "cell_type": "code",
   "execution_count": null,
   "metadata": {},
   "outputs": [],
   "source": [
    "def week_avg_c(toronto_weather):\n",
    "    \n",
    "    total_degrees  = 0\n",
    "    \n",
    "    for day in toronto_weather.values():\n",
    "        total_degrees = total_degrees + day\n",
    "    \n",
    "    #total_degrees has the sum of all 7 days of temp readings\n",
    "    #you just need to modify the next line: \n",
    "    return total_degrees \n",
    "\n",
    "print(week_avg_c(toronto_weather))\n"
   ]
  },
  {
   "cell_type": "markdown",
   "metadata": {},
   "source": [
    "----\n",
    "\n",
    "# Extra homework!\n",
    "\n",
    "If you'd really like to cement your understanding of functions in Python please these last 3 questions."
   ]
  },
  {
   "cell_type": "markdown",
   "metadata": {},
   "source": [
    "- **Q20** Can you write a function that finds the average temp for the week but in **F**? You just need to modify line 5."
   ]
  },
  {
   "cell_type": "code",
   "execution_count": null,
   "metadata": {},
   "outputs": [],
   "source": [
    "def week_avg_f(toronto_weather):\n",
    "    \n",
    "    #You just need to add one thing to the line below\n",
    "    #HINT: It is something we've seen already\n",
    "    avg_temp_f = week_avg_c(toronto_weather)\n",
    "    return avg_temp_f\n",
    "\n",
    "\n",
    "print(week_avg_f(toronto_weather))\n"
   ]
  },
  {
   "cell_type": "markdown",
   "metadata": {},
   "source": [
    "- **Q21** Can you write a function that finds the average temperature for the weekend? (Some of it is there for you) HINT: Check out question 19 for inspiration. You just need to modify lines 5 and 8."
   ]
  },
  {
   "cell_type": "code",
   "execution_count": null,
   "metadata": {},
   "outputs": [],
   "source": [
    "\n",
    "def weekend_avg_c(toronto_weather):\n",
    "\n",
    "    #A weekend is Saturday and Sunday. You need to find the sum of those two temps \n",
    "    total_degrees = 0\n",
    "    \n",
    "    #total_degrees has the sum of the weekend temps.\n",
    "    return total_degrees\n",
    "\n",
    "\n",
    "print(weekend_avg_c(toronto_weather))\n",
    "\n"
   ]
  },
  {
   "cell_type": "markdown",
   "metadata": {},
   "source": [
    "- **Q22** Can you write a function that finds the average temperature for the weekend in **F**? (Some of it is ther for you) HINT: look at Q20 for inspiration"
   ]
  },
  {
   "cell_type": "code",
   "execution_count": null,
   "metadata": {},
   "outputs": [],
   "source": [
    "def weekend_avg_f(toronto_weather):\n",
    "\n",
    "    #You just need to change the line below\n",
    "    avg_temp_f = weekend_avg_c(toronto_weather)\n",
    "    return avg_temp_f\n",
    "\n",
    "\n",
    "print(weekend_avg_f(toronto_weather))\n"
   ]
  },
  {
   "cell_type": "markdown",
   "metadata": {},
   "source": [
    "***\n",
    "\n",
    "# Congrats!\n",
    "\n",
    "You now know the basics of Python. Let's try another exercise that does some basic [text analysis](02_text_analysis.ipynb)"
   ]
  },
  {
   "cell_type": "markdown",
   "metadata": {},
   "source": [
    "## Further Reading\n",
    "\n",
    "- Now that we've handled the basics here are some interesting next steps you can persue.\n",
    "\n",
    "[Kaggle](https://www.kaggle.com/) - An online portal that teaches data science using Notebooks, also has contests for cash prizes\n",
    "\n",
    "[Python the Hard Way](https://learntocodetogether.com/learn-python-the-hard-way-free-ebook-download/) - Don't let the name fool you, this book is a great introduction to Python and programming more generally\n",
    "\n",
    "[Python 2.0](https://brockdsl.github.io/Python_2.0_Workshop/) - Our level 2 workshop that introduces more Python stuff\n",
    "\n",
    "[Data Analysis with Python and Sci Hub](https://brockdsl.github.io/SciHub_Workshop/) - A tutorial on using Python to analyze Sci-Hub data.\n"
   ]
  }
 ],
 "metadata": {
  "kernelspec": {
   "display_name": "Python 3",
   "language": "python",
   "name": "python3"
  },
  "language_info": {
   "codemirror_mode": {
    "name": "ipython",
    "version": 3
   },
   "file_extension": ".py",
   "mimetype": "text/x-python",
   "name": "python",
   "nbconvert_exporter": "python",
   "pygments_lexer": "ipython3",
   "version": "3.7.4"
  }
 },
 "nbformat": 4,
 "nbformat_minor": 2
}
